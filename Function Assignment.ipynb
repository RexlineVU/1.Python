{
 "cells": [
  {
   "cell_type": "code",
   "execution_count": null,
   "metadata": {},
   "outputs": [],
   "source": [
    "#Create Function()"
   ]
  },
  {
   "cell_type": "code",
   "execution_count": 48,
   "metadata": {},
   "outputs": [
    {
     "name": "stdout",
     "output_type": "stream",
     "text": [
      "Sub-fields in AI are:\n",
      "Machine Leraning\n",
      "Neural Networks\n",
      "Vision\n",
      "Robotics\n",
      "Speech Processing\n"
     ]
    }
   ],
   "source": [
    "def Subfields():\n",
    "    print(\"Sub-fields in AI are:\")\n",
    "    a=str(\"Machine Leraning\")\n",
    "    print(a)\n",
    "    message=a\n",
    "    b=str(\"Neural Networks\")\n",
    "    print(b)\n",
    "    message=b\n",
    "    c=str(\"Vision\")\n",
    "    print(c)\n",
    "    message=c\n",
    "    d=str(\"Robotics\")\n",
    "    print(d)\n",
    "    message=d\n",
    "    e=str(\"Speech Processing\")\n",
    "    print(e)\n",
    "    message=e\n",
    "    f=str(\"Natural Lanuage Processing\")\n",
    "    return message\n",
    "AIFields=Subfields()"
   ]
  },
  {
   "cell_type": "code",
   "execution_count": null,
   "metadata": {},
   "outputs": [],
   "source": [
    "#Create Function() for 1st question tried code in 2 ways"
   ]
  },
  {
   "cell_type": "code",
   "execution_count": 46,
   "metadata": {},
   "outputs": [
    {
     "name": "stdout",
     "output_type": "stream",
     "text": [
      "Sub-fields in AI are:\n",
      "Machine Leraning\n",
      "Neural Networks\n",
      "Vision\n",
      "Robotics\n",
      "Speech Processing\n"
     ]
    }
   ],
   "source": [
    "def Subfields():\n",
    "    print(\"Sub-fields in AI are:\")\n",
    "    Tuple1=(\"Machine Leraning\", \"Neural Networks\",\"Vision\", \"Robotics\",\"Speech Processing\",\"Natural Lanuage Processing\")\n",
    "    a,b,c,d,e,f=Tuple1\n",
    "    print(a)\n",
    "    message=a\n",
    "    print(b)\n",
    "    message=b\n",
    "    print(c)\n",
    "    message=c\n",
    "    print(d)\n",
    "    message=d\n",
    "    print(e)\n",
    "    message=e\n",
    "    return message\n",
    "AIFields=Subfields()"
   ]
  },
  {
   "cell_type": "code",
   "execution_count": null,
   "metadata": {},
   "outputs": [],
   "source": [
    "#Create function that checks whether the given number is odd or even"
   ]
  },
  {
   "cell_type": "code",
   "execution_count": 27,
   "metadata": {},
   "outputs": [
    {
     "name": "stdout",
     "output_type": "stream",
     "text": [
      "Enter the number:4\n",
      "4 is Even Number\n"
     ]
    }
   ],
   "source": [
    "def oddeven():\n",
    "    num=int(input(\"Enter the number:\"))\n",
    "    if((num%2)==0):\n",
    "        a=str(\"Even Number\")\n",
    "        print(num,\"is\",a)\n",
    "        message=a\n",
    "    else:\n",
    "        b=str(\"Odd Number\")\n",
    "        print(num,\"is\",b)\n",
    "        message=b\n",
    "    return message\n",
    "cate=oddeven() "
   ]
  },
  {
   "cell_type": "code",
   "execution_count": null,
   "metadata": {},
   "outputs": [],
   "source": [
    "#Create function\n",
    "Male - 21\n",
    "Female -18"
   ]
  },
  {
   "cell_type": "code",
   "execution_count": 47,
   "metadata": {},
   "outputs": [
    {
     "name": "stdout",
     "output_type": "stream",
     "text": [
      "Your Gender:Male\n",
      "Your age:17\n",
      "Not Elegible\n"
     ]
    }
   ],
   "source": [
    "def Elegible():\n",
    "    Gender=str(input(\"Your Gender:\"))\n",
    "    age=int(input(\"Your age:\"))\n",
    "    if((Gender=='Male') and (age<21)):\n",
    "            print(\"Not Elegible\")\n",
    "            message=\"Not Elegible\"\n",
    "    else:\n",
    "        print(\"Elegible\")\n",
    "        message=\"Elegible\"\n",
    "        return message\n",
    "Gen=Elegible()"
   ]
  },
  {
   "cell_type": "code",
   "execution_count": null,
   "metadata": {},
   "outputs": [],
   "source": [
    "#calculate the percentage of 10th Marks"
   ]
  },
  {
   "cell_type": "code",
   "execution_count": 23,
   "metadata": {},
   "outputs": [
    {
     "name": "stdout",
     "output_type": "stream",
     "text": [
      "Subject1=98\n",
      "Subject2=87\n",
      "Subject3=95\n",
      "Subject4=95\n",
      "Subject5=93\n",
      "Total: 468\n",
      "Percentage: 93.60000000000001\n"
     ]
    }
   ],
   "source": [
    "def percentage():\n",
    "    a=int(input(\"Subject1=\"))\n",
    "    b=int(input(\"Subject2=\"))\n",
    "    c=int(input(\"Subject3=\"))\n",
    "    d=int(input(\"Subject4=\"))\n",
    "    e=int(input(\"Subject5=\"))\n",
    "    Marks=[a,b,c,d,e]\n",
    "    print(\"Total:\", sum(Marks))\n",
    "    print(\"Percentage:\",sum(Marks)/500.0*100)\n",
    "    message=Marks\n",
    "    return message\n",
    "Mak=percentage()\n"
   ]
  },
  {
   "cell_type": "code",
   "execution_count": 17,
   "metadata": {},
   "outputs": [],
   "source": [
    "#print area and perimeter of triangle using function"
   ]
  },
  {
   "cell_type": "code",
   "execution_count": 42,
   "metadata": {},
   "outputs": [
    {
     "name": "stdout",
     "output_type": "stream",
     "text": [
      "Height:32\n",
      "Breadth:34\n",
      "Area formula:(Height*Breadth)/2\n",
      "Area of Triangle: 544.0\n",
      "Height1:2\n",
      "Height2:4\n",
      "Breadth:4\n",
      "Perimeter formula:Height1+Height2+Breadth\n",
      "Perimeter of Triangle: 10\n"
     ]
    }
   ],
   "source": [
    "def triangle():\n",
    "    a=int(input(\"Height:\"))\n",
    "    b=int(input(\"Breadth:\"))\n",
    "    print(\"Area formula:(Height*Breadth)/2\")\n",
    "    print(\"Area of Triangle:\", (a*b)/2)\n",
    "    message=\"Area of Triangle\"\n",
    "    num1=int(input(\"Height1:\"))\n",
    "    num2=int(input(\"Height2:\"))\n",
    "    num3=int(input(\"Breadth:\"))\n",
    "    c=[num1,num2,num3]\n",
    "    print(\"Perimeter formula:Height1+Height2+Breadth\")\n",
    "    print(\"Perimeter of Triangle:\",sum(c))\n",
    "    return message\n",
    "Mate=triangle()"
   ]
  },
  {
   "cell_type": "code",
   "execution_count": null,
   "metadata": {},
   "outputs": [],
   "source": []
  }
 ],
 "metadata": {
  "kernelspec": {
   "display_name": "Python 3",
   "language": "python",
   "name": "python3"
  },
  "language_info": {
   "codemirror_mode": {
    "name": "ipython",
    "version": 3
   },
   "file_extension": ".py",
   "mimetype": "text/x-python",
   "name": "python",
   "nbconvert_exporter": "python",
   "pygments_lexer": "ipython3",
   "version": "3.7.4"
  }
 },
 "nbformat": 4,
 "nbformat_minor": 2
}
